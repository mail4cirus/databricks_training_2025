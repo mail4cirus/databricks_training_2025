{
 "cells": [
  {
   "cell_type": "code",
   "execution_count": 0,
   "metadata": {
    "application/vnd.databricks.v1+cell": {
     "cellMetadata": {
      "byteLimit": 2048000,
      "rowLimit": 10000
     },
     "inputWidgets": {},
     "nuid": "5f5801ee-8a36-4dba-b40d-fe4e8d8e45e4",
     "showTitle": true,
     "tableResultSettingsMap": {},
     "title": "PySpark"
    }
   },
   "outputs": [],
   "source": [
    "df = spark.read.table(\"workspace.bronze.sales\")\n",
    "\n",
    "dfFinal = df.dropDuplicates().dropna().drop(\"ingestion_date\")\n",
    "\n",
    "dfFinal.write.mode(\"overwrite\").saveAsTable(\"workspace.silver.sales_cleaned\")"
   ]
  },
  {
   "cell_type": "code",
   "execution_count": 0,
   "metadata": {
    "application/vnd.databricks.v1+cell": {
     "cellMetadata": {
      "byteLimit": 2048000,
      "implicitDf": true,
      "rowLimit": 10000
     },
     "inputWidgets": {},
     "nuid": "4041b6f9-d0fb-481a-9ab0-79a298fb260d",
     "showTitle": true,
     "tableResultSettingsMap": {},
     "title": "SQL"
    }
   },
   "outputs": [],
   "source": [
    "%sql\n",
    "-- silver should remove duplicates/null so basically it is clean filtered data\n",
    "\n",
    "-- sql way to clean the data and load it into table\n",
    "-- create table if not exists silver.sales_cleaned as\n",
    "select distinct * from workspace.bronze.sales where order_id is not null;"
   ]
  }
 ],
 "metadata": {
  "application/vnd.databricks.v1+notebook": {
   "computePreferences": null,
   "dashboards": [],
   "environmentMetadata": {
    "base_environment": "",
    "environment_version": "3"
   },
   "inputWidgetPreferences": null,
   "language": "python",
   "notebookMetadata": {
    "mostRecentlyExecutedCommandWithImplicitDF": {
     "commandId": 8399376594508247,
     "dataframes": [
      "_sqldf"
     ]
    },
    "pythonIndentUnit": 4
   },
   "notebookName": "silver",
   "widgets": {}
  },
  "language_info": {
   "name": "python"
  }
 },
 "nbformat": 4,
 "nbformat_minor": 0
}
